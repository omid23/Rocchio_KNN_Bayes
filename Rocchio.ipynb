{
  "nbformat": 4,
  "nbformat_minor": 0,
  "metadata": {
    "colab": {
      "name": "Rocchio.ipynb",
      "version": "0.3.2",
      "provenance": [],
      "collapsed_sections": []
    },
    "language_info": {
      "codemirror_mode": {
        "name": "ipython",
        "version": 3
      },
      "file_extension": ".py",
      "mimetype": "text/x-python",
      "name": "python",
      "nbconvert_exporter": "python",
      "pygments_lexer": "ipython3",
      "version": "3.6.7"
    },
    "kernelspec": {
      "display_name": "Python 3",
      "language": "python",
      "name": "python3"
    }
  },
  "cells": [
    {
      "metadata": {
        "id": "3jCablinNK11",
        "colab_type": "code",
        "colab": {}
      },
      "cell_type": "code",
      "source": [
        "import numpy as np\n",
        "from sklearn.feature_extraction.text import TfidfVectorizer\n",
        "from sklearn.metrics.pairwise import pairwise_distances\n",
        "from sklearn.preprocessing import LabelEncoder\n",
        "from sklearn.utils.multiclass import check_classification_targets\n",
        "from sklearn.datasets import fetch_20newsgroups\n",
        "from sklearn.model_selection import KFold"
      ],
      "execution_count": 0,
      "outputs": []
    },
    {
      "metadata": {
        "id": "deaLfwv9NK15",
        "colab_type": "text"
      },
      "cell_type": "markdown",
      "source": [
        "### Hyper Params"
      ]
    },
    {
      "metadata": {
        "id": "HhlzvPHuNK16",
        "colab_type": "code",
        "colab": {}
      },
      "cell_type": "code",
      "source": [
        "cats = ['rec.sport.hockey', 'sci.crypt', 'sci.electronics', 'sci.space', 'rec.motorcycles', 'misc.forsale']\n",
        "newsgroups = fetch_20newsgroups(subset='train', categories=cats, remove=('headers', 'footers', 'quotes'))\n",
        "vectorizer = TfidfVectorizer()\n",
        "X = vectorizer.fit_transform(newsgroups.data)\n",
        "y = newsgroups.target\n",
        "metric = 'euclidean'"
      ],
      "execution_count": 0,
      "outputs": []
    },
    {
      "metadata": {
        "id": "ohiH6-kaNK1-",
        "colab_type": "code",
        "colab": {
          "base_uri": "https://localhost:8080/",
          "height": 34
        },
        "outputId": "140deb46-3685-4988-c508-42f92b702d4c"
      },
      "cell_type": "code",
      "source": [
        "check_classification_targets(y)\n",
        "n_samples, n_features = X.shape\n",
        "le = LabelEncoder()\n",
        "y_indices = le.fit_transform(y)\n",
        "classes = le.classes_\n",
        "n_classes = classes.size\n",
        "\n",
        "# Mask mapping each class to its members.\n",
        "centroids = np.empty((n_classes, n_features), dtype=np.float64)\n",
        "# Number of clusters in each class.\n",
        "n_cluster = np.zeros(n_classes)\n",
        "\n",
        "for current_class in range(n_classes):\n",
        "    center_mask = y_indices == current_class\n",
        "    n_cluster[current_class] = np.sum(center_mask)\n",
        "    centroids[current_class] = X[center_mask].mean(axis=0)"
      ],
      "execution_count": 14,
      "outputs": [
        {
          "output_type": "stream",
          "text": [
            "(3562, 36156)\n"
          ],
          "name": "stdout"
        }
      ]
    },
    {
      "metadata": {
        "id": "xiuxs8bjNK2B",
        "colab_type": "code",
        "colab": {}
      },
      "cell_type": "code",
      "source": [
        "def get_vectorizer_array(query):\n",
        "    return vectorizer.transform([query]).toarray()\n",
        "\n",
        "\n",
        "def pred(X):\n",
        "    return classes[pairwise_distances(X, centroids, metric=metric).argmin(axis=1)]\n",
        "\n"
      ],
      "execution_count": 0,
      "outputs": []
    },
    {
      "metadata": {
        "id": "k2sFMuz2NK2E",
        "colab_type": "code",
        "colab": {
          "base_uri": "https://localhost:8080/",
          "height": 34
        },
        "outputId": "29b5184d-09bc-479a-e785-18d423166226"
      },
      "cell_type": "code",
      "source": [
        "\n",
        "newsgroups_test = fetch_20newsgroups(subset='test', categories=cats, remove=('headers', 'footers', 'quotes'))\n",
        "x_testdata = newsgroups_test.data\n",
        "y_test = newsgroups_test.target\n",
        "testdata = [[a_, b_] for a_, b_ in zip(x_testdata, y_test)]\n",
        "\n",
        "correct = sum(str(pred(get_vectorizer_array(testcase[0]))[0]) == str(testcase[1]) for testcase in testdata)\n",
        "\n",
        "# Print the accurency in percentage\n",
        "result = str(correct / len(testdata) * 100) + \" %\"\n",
        "\n",
        "print(\"Accuracy before K-Folding: %s\" % result)"
      ],
      "execution_count": 20,
      "outputs": [
        {
          "output_type": "stream",
          "text": [
            "Accuracy before K-Folding: 76.45569620253164%\n"
          ],
          "name": "stdout"
        }
      ]
    },
    {
      "metadata": {
        "id": "72_zga9-NK2N",
        "colab_type": "code",
        "colab": {
          "base_uri": "https://localhost:8080/",
          "height": 119
        },
        "outputId": "ae4d584f-8ca9-4613-de55-1e3127c14087"
      },
      "cell_type": "code",
      "source": [
        "import numpy as np\n",
        "newsgroups = fetch_20newsgroups(subset='all', categories=cats, remove=('headers', 'footers', 'quotes'))\n",
        "X = np.asarray(newsgroups.data)\n",
        "y = np.asarray(newsgroups.target)\n",
        "print(X.shape)\n",
        "K = 5\n",
        "kf =  KFold(n_splits=K)\n",
        "for train_index, test_index in kf.split(X):\n",
        "    X_train, X_test = vectorizer.fit_transform(X[train_index]), X[test_index]\n",
        "    y_train, y_test = y[train_index], y[test_index]\n",
        "    \n",
        "    n_samples, n_features = X_train.shape\n",
        "    le = LabelEncoder()\n",
        "    y_indices = le.fit_transform(y_train)\n",
        "    classes = le.classes_\n",
        "    n_classes = classes.size\n",
        "\n",
        "    # Mask mapping each class to its members.\n",
        "    centroids = np.empty((n_classes, n_features), dtype=np.float64)\n",
        "    # Number of clusters in each class.\n",
        "    n_cluster = np.zeros(n_classes)\n",
        "    for current_class in range(n_classes):\n",
        "        center_mask = y_indices == current_class\n",
        "        n_cluster[current_class] = np.sum(center_mask)\n",
        "        centroids[current_class] = X_train[center_mask].mean(axis=0)\n",
        "    \n",
        "    \n",
        "    testdata = [[a_, b_] for a_, b_ in zip(X_test, y_test)]\n",
        "\n",
        "    correct = sum(str(pred(get_vectorizer_array(testcase[0]))[0]) == str(testcase[1]) for testcase in testdata)\n",
        "\n",
        "    # Print the accurency in percentage\n",
        "    result = str(correct / len(testdata) * 100) + \"%\"\n",
        "\n",
        "    print(\"Accuracy after %d-Folding: %s\" %( K, result))\n",
        "\n"
      ],
      "execution_count": 28,
      "outputs": [
        {
          "output_type": "stream",
          "text": [
            "(5932,)\n",
            "Accuracy after 5-Folding: 71.44060657118787%\n",
            "Accuracy after 5-Folding: 72.03032855939342%\n",
            "Accuracy after 5-Folding: 73.10286677908938%\n",
            "Accuracy after 5-Folding: 72.76559865092749%\n",
            "Accuracy after 5-Folding: 72.93423271500843%\n"
          ],
          "name": "stdout"
        }
      ]
    },
    {
      "metadata": {
        "id": "fXDXsANzNK2R",
        "colab_type": "code",
        "colab": {}
      },
      "cell_type": "code",
      "source": [
        ""
      ],
      "execution_count": 0,
      "outputs": []
    }
  ]
}