{
  "nbformat": 4,
  "nbformat_minor": 0,
  "metadata": {
    "colab": {
      "name": "KNN.ipynb",
      "version": "0.3.2",
      "provenance": [],
      "include_colab_link": true
    },
    "language_info": {
      "codemirror_mode": {
        "name": "ipython",
        "version": 3
      },
      "file_extension": ".py",
      "mimetype": "text/x-python",
      "name": "python",
      "nbconvert_exporter": "python",
      "pygments_lexer": "ipython3",
      "version": "3.6.7"
    },
    "kernelspec": {
      "display_name": "Python 3",
      "language": "python",
      "name": "python3"
    }
  },
  "cells": [
    {
      "cell_type": "markdown",
      "metadata": {
        "id": "view-in-github",
        "colab_type": "text"
      },
      "source": [
        "<a href=\"https://colab.research.google.com/github/omid23/Rocchio_KNN_Bayes/blob/master/KNN.ipynb\" target=\"_parent\"><img src=\"https://colab.research.google.com/assets/colab-badge.svg\" alt=\"Open In Colab\"/></a>"
      ]
    },
    {
      "metadata": {
        "id": "yBU6o-0QOhpf",
        "colab_type": "code",
        "colab": {}
      },
      "cell_type": "code",
      "source": [
        "import sklearn.neighbors\n",
        "from sklearn.datasets import fetch_20newsgroups\n",
        "from sklearn.feature_extraction.text import TfidfVectorizer\n",
        "from sklearn.metrics import accuracy_score\n",
        "from sklearn import model_selection"
      ],
      "execution_count": 0,
      "outputs": []
    },
    {
      "metadata": {
        "id": "U_zIW3i2Ohpk",
        "colab_type": "code",
        "colab": {}
      },
      "cell_type": "code",
      "source": [
        "\n",
        "cats = ['rec.sport.hockey', 'sci.crypt', 'sci.electronics', 'sci.space', 'rec.motorcycles', 'misc.forsale']\n",
        "newsgroups = fetch_20newsgroups(subset='all', categories=cats)\n",
        "vectorizer = TfidfVectorizer()\n",
        "X = vectorizer.fit_transform(newsgroups.data)\n",
        "y = newsgroups.target"
      ],
      "execution_count": 0,
      "outputs": []
    },
    {
      "metadata": {
        "id": "bgIwMkq7Ohpn",
        "colab_type": "code",
        "colab": {}
      },
      "cell_type": "code",
      "source": [
        "weights = 'uniform'\n",
        "clf = sklearn.neighbors.KNeighborsClassifier(n_neighbors=1, weights=weights)"
      ],
      "execution_count": 0,
      "outputs": []
    },
    {
      "metadata": {
        "id": "dbu8NUKwOhpr",
        "colab_type": "code",
        "colab": {}
      },
      "cell_type": "code",
      "source": [
        "def cross_validation(data, target, classifier, cv=5):\n",
        "    return sklearn.model_selection.cross_val_score(classifier, data, target, cv=cv)\n",
        "\n",
        "def test_classifier(X, y, clf, test_size=0.4, y_names=None):\n",
        "    # train-test split\n",
        "    print('test size is: %2.0f%%' % (test_size * 100))\n",
        "    X_train, X_test, y_train, y_test = sklearn.model_selection.train_test_split(X, y, test_size=test_size)\n",
        "    clf.fit(X_train, y_train)\n",
        "    y_predicted = clf.predict(X_test)\n",
        "    print (\"accuracy before cross-validation is %0.2f\" % accuracy_score(y_test, y_predicted))\n",
        "    scores = cross_validation(X, y, clf, cv=5)\n",
        "    print(\"Accuracy: %0.2f (+/- %0.2f)\" % (scores.mean(), scores.std() * 2))\n",
        "    print('Classification report:')\n",
        "    print(sklearn.metrics.classification_report(y_test, y_predicted, target_names=y_names))"
      ],
      "execution_count": 0,
      "outputs": []
    },
    {
      "metadata": {
        "id": "fO1NX1M8Ohpu",
        "colab_type": "code",
        "colab": {},
        "outputId": "ca662d79-07ca-48e3-bc1b-70e1f49e98c9"
      },
      "cell_type": "code",
      "source": [
        "test_classifier(X, y, clf, test_size=0.2, y_names=newsgroups_test.target_names)"
      ],
      "execution_count": 0,
      "outputs": [
        {
          "output_type": "stream",
          "text": [
            "test size is: 20%\n",
            "accuracy before cross-validation is 0.90\n",
            "Accuracy: 0.90 (+/- 0.02)\n",
            "Classification report:\n",
            "                  precision    recall  f1-score   support\n",
            "\n",
            "    misc.forsale       0.88      0.77      0.82       186\n",
            " rec.motorcycles       0.92      0.93      0.93       199\n",
            "rec.sport.hockey       0.92      0.95      0.93       191\n",
            "       sci.crypt       0.86      0.96      0.91       204\n",
            " sci.electronics       0.90      0.81      0.85       215\n",
            "       sci.space       0.90      0.95      0.92       192\n",
            "\n",
            "       micro avg       0.90      0.90      0.90      1187\n",
            "       macro avg       0.90      0.90      0.89      1187\n",
            "    weighted avg       0.90      0.90      0.89      1187\n",
            "\n"
          ],
          "name": "stdout"
        }
      ]
    },
    {
      "metadata": {
        "id": "BPaKj-pVOhp2",
        "colab_type": "code",
        "colab": {}
      },
      "cell_type": "code",
      "source": [
        ""
      ],
      "execution_count": 0,
      "outputs": []
    }
  ]
}