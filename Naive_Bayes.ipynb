{
  "nbformat": 4,
  "nbformat_minor": 0,
  "metadata": {
    "colab": {
      "name": "Naive_Bayes.ipynb",
      "version": "0.3.2",
      "provenance": [],
      "include_colab_link": true
    },
    "language_info": {
      "codemirror_mode": {
        "name": "ipython",
        "version": 3
      },
      "file_extension": ".py",
      "mimetype": "text/x-python",
      "name": "python",
      "nbconvert_exporter": "python",
      "pygments_lexer": "ipython3",
      "version": "3.6.7"
    },
    "kernelspec": {
      "display_name": "Python 3",
      "language": "python",
      "name": "python3"
    }
  },
  "cells": [
    {
      "cell_type": "markdown",
      "metadata": {
        "id": "view-in-github",
        "colab_type": "text"
      },
      "source": [
        "<a href=\"https://colab.research.google.com/github/omid23/Rocchio_KNN_Bayes/blob/master/Naive_Bayes.ipynb\" target=\"_parent\"><img src=\"https://colab.research.google.com/assets/colab-badge.svg\" alt=\"Open In Colab\"/></a>"
      ]
    },
    {
      "metadata": {
        "id": "tGJsFo34Lnkb",
        "colab_type": "code",
        "colab": {
          "base_uri": "https://localhost:8080/",
          "height": 34
        },
        "outputId": "926da236-0bce-48eb-c6e9-e0cefee12ba3"
      },
      "cell_type": "code",
      "source": [
        "#_______Importing libraries________#\n",
        "from sklearn.naive_bayes import MultinomialNB\n",
        "from sklearn.feature_extraction.text import TfidfVectorizer\n",
        "from sklearn.datasets import fetch_20newsgroups\n",
        "from sklearn.model_selection import KFold\n",
        "\n",
        "\n",
        "vectorizer = TfidfVectorizer()\n",
        "#________ loading 20_newsgroup dataset, but to save time, only 6 categories were selected________#\n",
        "cats = ['rec.sport.hockey', 'sci.crypt', 'sci.electronics', 'sci.space', 'rec.motorcycles', 'misc.forsale']\n",
        "newsgroups = fetch_20newsgroups(subset='train', categories=cats, remove=('headers', 'footers', 'quotes'))\n",
        "vectorizer = TfidfVectorizer()\n",
        "#________ vectorizing to tf-idf________#\n",
        "X_train = vectorizer.fit_transform(newsgroups.data)\n",
        "Y_train = newsgroups.target\n",
        "\n",
        "newsgroupstst = fetch_20newsgroups(subset='test', categories=cats, remove=('headers', 'footers', 'quotes'))\n",
        "X_test = vectorizer.transform(newsgroupstst.data)\n",
        "Y_test = newsgroupstst.target\n",
        "\n",
        "\n",
        "\n",
        "#________ by sklearn.MultinominalNaiveBayes, training is getting started ________#\n",
        "clf = MultinomialNB()\n",
        "clf.fit(X_train, Y_train)"
      ],
      "execution_count": 2,
      "outputs": [
        {
          "output_type": "execute_result",
          "data": {
            "text/plain": [
              "MultinomialNB(alpha=1.0, class_prior=None, fit_prior=True)"
            ]
          },
          "metadata": {
            "tags": []
          },
          "execution_count": 2
        }
      ]
    },
    {
      "metadata": {
        "id": "aG6Njq6mLnki",
        "colab_type": "text"
      },
      "cell_type": "markdown",
      "source": [
        "### Predicting and calculating score before using K-Fold"
      ]
    },
    {
      "metadata": {
        "id": "b7pfAcjYLnkj",
        "colab_type": "code",
        "colab": {}
      },
      "cell_type": "code",
      "source": [
        "Y_predict = clf.predict(X_test)"
      ],
      "execution_count": 0,
      "outputs": []
    },
    {
      "metadata": {
        "id": "5DpCoFzrLnkm",
        "colab_type": "code",
        "colab": {
          "base_uri": "https://localhost:8080/",
          "height": 34
        },
        "outputId": "683166c3-ad47-4175-f7fa-0af8837bf9e8"
      },
      "cell_type": "code",
      "source": [
        "clf.score(X_test, Y_test)"
      ],
      "execution_count": 4,
      "outputs": [
        {
          "output_type": "execute_result",
          "data": {
            "text/plain": [
              "0.7902953586497891"
            ]
          },
          "metadata": {
            "tags": []
          },
          "execution_count": 4
        }
      ]
    },
    {
      "metadata": {
        "id": "Y0XObljNLnkq",
        "colab_type": "code",
        "colab": {
          "base_uri": "https://localhost:8080/",
          "height": 238
        },
        "outputId": "f41dc82c-fe43-4ec6-9596-714bef9c4d47"
      },
      "cell_type": "code",
      "source": [
        "from sklearn.metrics import classification_report, confusion_matrix, accuracy_score\n",
        "print(classification_report(Y_test, Y_predict))"
      ],
      "execution_count": 5,
      "outputs": [
        {
          "output_type": "stream",
          "text": [
            "              precision    recall  f1-score   support\n",
            "\n",
            "           0       0.95      0.84      0.89       390\n",
            "           1       0.93      0.77      0.84       398\n",
            "           2       0.81      0.95      0.88       399\n",
            "           3       0.55      0.91      0.69       396\n",
            "           4       0.83      0.54      0.66       393\n",
            "           5       0.90      0.72      0.80       394\n",
            "\n",
            "   micro avg       0.79      0.79      0.79      2370\n",
            "   macro avg       0.83      0.79      0.79      2370\n",
            "weighted avg       0.83      0.79      0.79      2370\n",
            "\n"
          ],
          "name": "stdout"
        }
      ]
    },
    {
      "metadata": {
        "id": "U5TPF7n4Lnku",
        "colab_type": "code",
        "colab": {}
      },
      "cell_type": "code",
      "source": [
        "Y_predict_tr = clf.predict(X_train)"
      ],
      "execution_count": 0,
      "outputs": []
    },
    {
      "metadata": {
        "id": "9wAauX4nLnkx",
        "colab_type": "code",
        "colab": {
          "base_uri": "https://localhost:8080/",
          "height": 34
        },
        "outputId": "f84a9d0f-bf34-4b71-8127-21d48ebce90d"
      },
      "cell_type": "code",
      "source": [
        "clf.score(X_train, Y_train)"
      ],
      "execution_count": 7,
      "outputs": [
        {
          "output_type": "execute_result",
          "data": {
            "text/plain": [
              "0.93149915777653"
            ]
          },
          "metadata": {
            "tags": []
          },
          "execution_count": 7
        }
      ]
    },
    {
      "metadata": {
        "id": "gTm1MgXvLnk0",
        "colab_type": "code",
        "colab": {
          "base_uri": "https://localhost:8080/",
          "height": 238
        },
        "outputId": "eafdadfe-c80e-4142-a054-97c3fd9d112e"
      },
      "cell_type": "code",
      "source": [
        "print(classification_report(Y_train, Y_predict_tr))"
      ],
      "execution_count": 8,
      "outputs": [
        {
          "output_type": "stream",
          "text": [
            "              precision    recall  f1-score   support\n",
            "\n",
            "           0       0.98      0.87      0.92       585\n",
            "           1       0.99      0.92      0.96       598\n",
            "           2       0.88      0.99      0.93       600\n",
            "           3       0.83      0.97      0.89       595\n",
            "           4       0.96      0.89      0.93       591\n",
            "           5       0.98      0.94      0.96       593\n",
            "\n",
            "   micro avg       0.93      0.93      0.93      3562\n",
            "   macro avg       0.94      0.93      0.93      3562\n",
            "weighted avg       0.94      0.93      0.93      3562\n",
            "\n"
          ],
          "name": "stdout"
        }
      ]
    },
    {
      "metadata": {
        "id": "_Caq3t_1Lnk4",
        "colab_type": "text"
      },
      "cell_type": "markdown",
      "source": [
        "### By using 5-Fold, we can see the change in result"
      ]
    },
    {
      "metadata": {
        "id": "triTdldzLnk5",
        "colab_type": "code",
        "colab": {
          "base_uri": "https://localhost:8080/",
          "height": 119
        },
        "outputId": "87094cb5-2ac5-4ed8-8fe1-3e25a7d94651"
      },
      "cell_type": "code",
      "source": [
        "import numpy as np\n",
        "newsgroups = fetch_20newsgroups(subset='all', categories=cats, remove=('headers', 'footers', 'quotes'))\n",
        "X = np.asarray(newsgroups.data)\n",
        "y = np.asarray(newsgroups.target)\n",
        "print(X.shape)\n",
        "K = 5\n",
        "kf =  KFold(n_splits=K)\n",
        "for train_index, test_index in kf.split(X):\n",
        "    X_train = vectorizer.fit_transform(X[train_index])\n",
        "    X_test =  vectorizer.transform(X[test_index])\n",
        "    Y_train, Y_test = y[train_index], y[test_index]\n",
        "    clf = MultinomialNB()\n",
        "    clf.fit(X_train, Y_train)\n",
        "    \n",
        "    \n",
        "    Y_predict = clf.predict(X_test)\n",
        "    print(clf.score(X_train, Y_train))"
      ],
      "execution_count": 10,
      "outputs": [
        {
          "output_type": "stream",
          "text": [
            "(5932,)\n",
            "0.930031612223393\n",
            "0.9289778714436249\n",
            "0.9298356510745891\n",
            "0.9254108723135271\n",
            "0.9304677623261695\n"
          ],
          "name": "stdout"
        }
      ]
    },
    {
      "metadata": {
        "id": "j3SF1TJZLnk9",
        "colab_type": "code",
        "colab": {}
      },
      "cell_type": "code",
      "source": [
        ""
      ],
      "execution_count": 0,
      "outputs": []
    },
    {
      "metadata": {
        "id": "nHJjPUFVLnlA",
        "colab_type": "code",
        "colab": {}
      },
      "cell_type": "code",
      "source": [
        ""
      ],
      "execution_count": 0,
      "outputs": []
    },
    {
      "metadata": {
        "id": "ZfeIzbcnLnlD",
        "colab_type": "code",
        "colab": {}
      },
      "cell_type": "code",
      "source": [
        ""
      ],
      "execution_count": 0,
      "outputs": []
    }
  ]
}